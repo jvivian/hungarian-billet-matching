{
 "cells": [
  {
   "cell_type": "raw",
   "id": "61ea900c",
   "metadata": {},
   "source": [
    "---\n",
    "name: Billet Hungarian Pairs Matching System\n",
    "author: John Vivian\n",
    "description: Hungarian Matching\n",
    "show-code: False\n",
    "params:\n",
    "    pairing_matrix_path:\n",
    "        input: file\n",
    "        label: Excel document with rows as pilots, columns as billet locations, and values as ranking. (1 is first choice, etc)\n",
    "    checkbox_random:\n",
    "        label: This will randomize the rows before pairing\n",
    "        input: checkbox\n",
    "        value: True\n",
    "---"
   ]
  },
  {
   "cell_type": "code",
   "execution_count": 5,
   "id": "b00fc6c8",
   "metadata": {
    "ExecuteTime": {
     "end_time": "2022-02-04T21:51:14.076549Z",
     "start_time": "2022-02-04T21:51:14.073446Z"
    }
   },
   "outputs": [],
   "source": [
    "pairing_matrix_path = 'example-matrix.xlsx'\n",
    "checkbox_random = True"
   ]
  },
  {
   "cell_type": "code",
   "execution_count": 6,
   "id": "5f388584",
   "metadata": {
    "ExecuteTime": {
     "end_time": "2022-02-04T21:51:14.310685Z",
     "start_time": "2022-02-04T21:51:14.307560Z"
    }
   },
   "outputs": [],
   "source": [
    "import pandas as pd\n",
    "from scipy.optimize import linear_sum_assignment\n",
    "\n",
    "import seaborn as sns\n",
    "import matplotlib.pyplot as plt\n",
    "from IPython.display import clear_output"
   ]
  },
  {
   "cell_type": "markdown",
   "id": "4530ba05",
   "metadata": {},
   "source": [
    "# Starting Matrix"
   ]
  },
  {
   "cell_type": "code",
   "execution_count": 70,
   "id": "65530e1f",
   "metadata": {
    "ExecuteTime": {
     "end_time": "2022-02-04T21:51:15.986889Z",
     "start_time": "2022-02-04T21:51:15.960492Z"
    }
   },
   "outputs": [
    {
     "data": {
      "text/html": [
       "<div>\n",
       "<style scoped>\n",
       "    .dataframe tbody tr th:only-of-type {\n",
       "        vertical-align: middle;\n",
       "    }\n",
       "\n",
       "    .dataframe tbody tr th {\n",
       "        vertical-align: top;\n",
       "    }\n",
       "\n",
       "    .dataframe thead th {\n",
       "        text-align: right;\n",
       "    }\n",
       "</style>\n",
       "<table border=\"1\" class=\"dataframe\">\n",
       "  <thead>\n",
       "    <tr style=\"text-align: right;\">\n",
       "      <th></th>\n",
       "      <th>San Diego</th>\n",
       "      <th>Swamp</th>\n",
       "      <th>Rose City</th>\n",
       "      <th>Mars</th>\n",
       "      <th>Oklahoma</th>\n",
       "      <th>Literal Hell</th>\n",
       "      <th>Diego Garcia</th>\n",
       "    </tr>\n",
       "  </thead>\n",
       "  <tbody>\n",
       "    <tr>\n",
       "      <th>Donkey</th>\n",
       "      <td>2</td>\n",
       "      <td>1</td>\n",
       "      <td>4</td>\n",
       "      <td>6</td>\n",
       "      <td>3</td>\n",
       "      <td>5</td>\n",
       "      <td>7</td>\n",
       "    </tr>\n",
       "    <tr>\n",
       "      <th>Satan</th>\n",
       "      <td>6</td>\n",
       "      <td>5</td>\n",
       "      <td>4</td>\n",
       "      <td>3</td>\n",
       "      <td>2</td>\n",
       "      <td>1</td>\n",
       "      <td>7</td>\n",
       "    </tr>\n",
       "    <tr>\n",
       "      <th>Eren Jager</th>\n",
       "      <td>4</td>\n",
       "      <td>3</td>\n",
       "      <td>1</td>\n",
       "      <td>2</td>\n",
       "      <td>5</td>\n",
       "      <td>6</td>\n",
       "      <td>7</td>\n",
       "    </tr>\n",
       "    <tr>\n",
       "      <th>Doctor Long Bones</th>\n",
       "      <td>1</td>\n",
       "      <td>4</td>\n",
       "      <td>3</td>\n",
       "      <td>2</td>\n",
       "      <td>6</td>\n",
       "      <td>5</td>\n",
       "      <td>7</td>\n",
       "    </tr>\n",
       "    <tr>\n",
       "      <th>Baphomet</th>\n",
       "      <td>6</td>\n",
       "      <td>5</td>\n",
       "      <td>4</td>\n",
       "      <td>3</td>\n",
       "      <td>2</td>\n",
       "      <td>1</td>\n",
       "      <td>7</td>\n",
       "    </tr>\n",
       "    <tr>\n",
       "      <th>Shrek</th>\n",
       "      <td>4</td>\n",
       "      <td>1</td>\n",
       "      <td>2</td>\n",
       "      <td>5</td>\n",
       "      <td>3</td>\n",
       "      <td>6</td>\n",
       "      <td>7</td>\n",
       "    </tr>\n",
       "    <tr>\n",
       "      <th>Levy</th>\n",
       "      <td>3</td>\n",
       "      <td>4</td>\n",
       "      <td>1</td>\n",
       "      <td>2</td>\n",
       "      <td>5</td>\n",
       "      <td>6</td>\n",
       "      <td>7</td>\n",
       "    </tr>\n",
       "  </tbody>\n",
       "</table>\n",
       "</div>"
      ],
      "text/plain": [
       "                   San Diego  Swamp  Rose City  Mars  Oklahoma  Literal Hell  \\\n",
       "Donkey                     2      1          4     6         3             5   \n",
       "Satan                      6      5          4     3         2             1   \n",
       "Eren Jager                 4      3          1     2         5             6   \n",
       "Doctor Long Bones          1      4          3     2         6             5   \n",
       "Baphomet                   6      5          4     3         2             1   \n",
       "Shrek                      4      1          2     5         3             6   \n",
       "Levy                       3      4          1     2         5             6   \n",
       "\n",
       "                   Diego Garcia  \n",
       "Donkey                        7  \n",
       "Satan                         7  \n",
       "Eren Jager                    7  \n",
       "Doctor Long Bones             7  \n",
       "Baphomet                      7  \n",
       "Shrek                         7  \n",
       "Levy                          7  "
      ]
     },
     "execution_count": 70,
     "metadata": {},
     "output_type": "execute_result"
    }
   ],
   "source": [
    "df = pd.read_excel(pairing_matrix_path, index_col=0)\n",
    "df"
   ]
  },
  {
   "cell_type": "markdown",
   "id": "87622f8d",
   "metadata": {},
   "source": [
    "# Shuffled Matrix"
   ]
  },
  {
   "cell_type": "code",
   "execution_count": 71,
   "id": "e6cb8a9d",
   "metadata": {},
   "outputs": [
    {
     "data": {
      "text/html": [
       "<div>\n",
       "<style scoped>\n",
       "    .dataframe tbody tr th:only-of-type {\n",
       "        vertical-align: middle;\n",
       "    }\n",
       "\n",
       "    .dataframe tbody tr th {\n",
       "        vertical-align: top;\n",
       "    }\n",
       "\n",
       "    .dataframe thead th {\n",
       "        text-align: right;\n",
       "    }\n",
       "</style>\n",
       "<table border=\"1\" class=\"dataframe\">\n",
       "  <thead>\n",
       "    <tr style=\"text-align: right;\">\n",
       "      <th></th>\n",
       "      <th>San Diego</th>\n",
       "      <th>Swamp</th>\n",
       "      <th>Rose City</th>\n",
       "      <th>Mars</th>\n",
       "      <th>Oklahoma</th>\n",
       "      <th>Literal Hell</th>\n",
       "      <th>Diego Garcia</th>\n",
       "    </tr>\n",
       "  </thead>\n",
       "  <tbody>\n",
       "    <tr>\n",
       "      <th>Satan</th>\n",
       "      <td>6</td>\n",
       "      <td>5</td>\n",
       "      <td>4</td>\n",
       "      <td>3</td>\n",
       "      <td>2</td>\n",
       "      <td>1</td>\n",
       "      <td>7</td>\n",
       "    </tr>\n",
       "    <tr>\n",
       "      <th>Donkey</th>\n",
       "      <td>2</td>\n",
       "      <td>1</td>\n",
       "      <td>4</td>\n",
       "      <td>6</td>\n",
       "      <td>3</td>\n",
       "      <td>5</td>\n",
       "      <td>7</td>\n",
       "    </tr>\n",
       "    <tr>\n",
       "      <th>Levy</th>\n",
       "      <td>3</td>\n",
       "      <td>4</td>\n",
       "      <td>1</td>\n",
       "      <td>2</td>\n",
       "      <td>5</td>\n",
       "      <td>6</td>\n",
       "      <td>7</td>\n",
       "    </tr>\n",
       "    <tr>\n",
       "      <th>Shrek</th>\n",
       "      <td>4</td>\n",
       "      <td>1</td>\n",
       "      <td>2</td>\n",
       "      <td>5</td>\n",
       "      <td>3</td>\n",
       "      <td>6</td>\n",
       "      <td>7</td>\n",
       "    </tr>\n",
       "    <tr>\n",
       "      <th>Doctor Long Bones</th>\n",
       "      <td>1</td>\n",
       "      <td>4</td>\n",
       "      <td>3</td>\n",
       "      <td>2</td>\n",
       "      <td>6</td>\n",
       "      <td>5</td>\n",
       "      <td>7</td>\n",
       "    </tr>\n",
       "    <tr>\n",
       "      <th>Eren Jager</th>\n",
       "      <td>4</td>\n",
       "      <td>3</td>\n",
       "      <td>1</td>\n",
       "      <td>2</td>\n",
       "      <td>5</td>\n",
       "      <td>6</td>\n",
       "      <td>7</td>\n",
       "    </tr>\n",
       "    <tr>\n",
       "      <th>Baphomet</th>\n",
       "      <td>6</td>\n",
       "      <td>5</td>\n",
       "      <td>4</td>\n",
       "      <td>3</td>\n",
       "      <td>2</td>\n",
       "      <td>1</td>\n",
       "      <td>7</td>\n",
       "    </tr>\n",
       "  </tbody>\n",
       "</table>\n",
       "</div>"
      ],
      "text/plain": [
       "                   San Diego  Swamp  Rose City  Mars  Oklahoma  Literal Hell  \\\n",
       "Satan                      6      5          4     3         2             1   \n",
       "Donkey                     2      1          4     6         3             5   \n",
       "Levy                       3      4          1     2         5             6   \n",
       "Shrek                      4      1          2     5         3             6   \n",
       "Doctor Long Bones          1      4          3     2         6             5   \n",
       "Eren Jager                 4      3          1     2         5             6   \n",
       "Baphomet                   6      5          4     3         2             1   \n",
       "\n",
       "                   Diego Garcia  \n",
       "Satan                         7  \n",
       "Donkey                        7  \n",
       "Levy                          7  \n",
       "Shrek                         7  \n",
       "Doctor Long Bones             7  \n",
       "Eren Jager                    7  \n",
       "Baphomet                      7  "
      ]
     },
     "execution_count": 71,
     "metadata": {},
     "output_type": "execute_result"
    }
   ],
   "source": [
    "df = df.sample(n=len(df))\n",
    "df"
   ]
  },
  {
   "cell_type": "markdown",
   "id": "9748c8ce",
   "metadata": {},
   "source": [
    "# Assignments"
   ]
  },
  {
   "cell_type": "code",
   "execution_count": 72,
   "id": "d1b32531",
   "metadata": {
    "ExecuteTime": {
     "end_time": "2022-02-04T21:53:05.845548Z",
     "start_time": "2022-02-04T21:53:05.840993Z"
    }
   },
   "outputs": [
    {
     "name": "stdout",
     "output_type": "stream",
     "text": [
      "Baphomet - Literal Hell\n",
      "Satan - Oklahoma\n",
      "Donkey - Swamp\n",
      "Doctor Long Bones - San Diego\n",
      "Shrek - Diego Garcia\n",
      "Eren Jager - Mars\n",
      "Levy - Rose City\n"
     ]
    }
   ],
   "source": [
    "df = df.sample(axis='columns', n=len(df)).sample(n=len(df))\n",
    "row, col = linear_sum_assignment(df)\n",
    "\n",
    "for i in range(len(row)):\n",
    "    row_idx = row[i]\n",
    "    col_idx = col[i]\n",
    "    name = df.index[row_idx]\n",
    "    location = df.columns[col_idx]\n",
    "    print(f'{name} - {location}')"
   ]
  },
  {
   "cell_type": "markdown",
   "id": "78e0e199",
   "metadata": {},
   "source": [
    "# Proof of fairness using simulation\n",
    "\n",
    "These simulations provide proof that shuffling the matrix handles tie-breaks equitably by showing individuals with competing (1st choices) \n",
    "\n",
    "## Unshuffled matrices produce deterministic results"
   ]
  },
  {
   "cell_type": "code",
   "execution_count": 95,
   "id": "bcb7d4bf",
   "metadata": {},
   "outputs": [
    {
     "data": {
      "image/png": "[encoded data removed]",
      "text/plain": [
       "<Figure size 864x288 with 1 Axes>"
      ]
     },
     "metadata": {
      "needs_background": "light"
     },
     "output_type": "display_data"
    }
   ],
   "source": [
    "assignments = pd.DataFrame(0,  index=df.index, columns=df.columns, )\n",
    "df = pd.read_excel(pairing_matrix_path, index_col=0)\n",
    "\n",
    "for _ in range(1000):\n",
    "    #df = df.sample(n=len(df))\n",
    "    row, col = linear_sum_assignment(df)\n",
    "    for i in range(len(row)):\n",
    "        row_idx = row[i]\n",
    "        col_idx = col[i]\n",
    "        name = df.index[row_idx]\n",
    "        location = df.columns[col_idx]\n",
    "        assignments.loc[name, location] += 1\n",
    "        \n",
    "a = assignments.reset_index().melt(id_vars='index').rename({'index': 'individual'}, axis='columns')\n",
    "plt.figure(figsize=(12, 4))\n",
    "sns.barplot(data=a, x='individual', y='value', hue='variable')\n",
    "plt.legend(bbox_to_anchor=(1.2, 1));"
   ]
  },
  {
   "cell_type": "markdown",
   "id": "89a4384f",
   "metadata": {},
   "source": [
    "## Shuffling only rows provides equal chances"
   ]
  },
  {
   "cell_type": "code",
   "execution_count": 97,
   "id": "3cd09955",
   "metadata": {
    "scrolled": true
   },
   "outputs": [
    {
     "data": {
      "image/png": "[encoded data removed]",
      "text/plain": [
       "<Figure size 864x288 with 1 Axes>"
      ]
     },
     "metadata": {
      "needs_background": "light"
     },
     "output_type": "display_data"
    }
   ],
   "source": [
    "assignments = pd.DataFrame(0,  index=df.index, columns=df.columns, )\n",
    "df = pd.read_excel(pairing_matrix_path, index_col=0)\n",
    "\n",
    "for _ in range(1000):\n",
    "    df = df.sample(n=len(df))\n",
    "    row, col = linear_sum_assignment(df)\n",
    "    for i in range(len(row)):\n",
    "        row_idx = row[i]\n",
    "        col_idx = col[i]\n",
    "        name = df.index[row_idx]\n",
    "        location = df.columns[col_idx]\n",
    "        assignments.loc[name, location] += 1\n",
    "        \n",
    "a = assignments.reset_index().melt(id_vars='index').rename({'index': 'individual'}, axis='columns')\n",
    "plt.figure(figsize=(12, 4))\n",
    "sns.barplot(data=a, x='individual', y='value', hue='variable')\n",
    "plt.legend(bbox_to_anchor=(1.2, 1));"
   ]
  },
  {
   "cell_type": "code",
   "execution_count": null,
   "id": "6fc179cb",
   "metadata": {},
   "outputs": [],
   "source": []
  }
 ],
 "metadata": {
  "hide_input": true,
  "kernelspec": {
   "display_name": "Python 3 (ipykernel)",
   "language": "python",
   "name": "python3"
  },
  "language_info": {
   "codemirror_mode": {
    "name": "ipython",
    "version": 3
   },
   "file_extension": ".py",
   "mimetype": "text/x-python",
   "name": "python",
   "nbconvert_exporter": "python",
   "pygments_lexer": "ipython3",
   "version": "3.8.12"
  },
  "toc": {
   "base_numbering": 1,
   "nav_menu": {},
   "number_sections": true,
   "sideBar": true,
   "skip_h1_title": false,
   "title_cell": "Table of Contents",
   "title_sidebar": "Contents",
   "toc_cell": false,
   "toc_position": {},
   "toc_section_display": true,
   "toc_window_display": false
  }
 },
 "nbformat": 4,
 "nbformat_minor": 5
}
