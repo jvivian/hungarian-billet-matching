{
 "cells": [
  {
   "cell_type": "raw",
   "id": "61ea900c",
   "metadata": {},
   "source": [
    "---\n",
    "name: Billet Hungarian Pairs Matching System\n",
    "author: John Vivian\n",
    "description: Hungarian Matching\n",
    "show-code: False\n",
    "params:\n",
    "    pairing_matrix_path:\n",
    "        input: file\n",
    "        label: Excel document with rows as pilots, columns as billet locations, and values as ranking. (1 is first choice, etc)\n",
    "    checkbox_random:\n",
    "        label: This will randomize the rows before pairing\n",
    "        input: checkbox\n",
    "        value: True\n",
    "---"
   ]
  },
  {
   "cell_type": "code",
   "execution_count": 22,
   "id": "b00fc6c8",
   "metadata": {
    "ExecuteTime": {
     "end_time": "2022-02-04T21:51:14.076549Z",
     "start_time": "2022-02-04T21:51:14.073446Z"
    }
   },
   "outputs": [],
   "source": [
    "pairing_matrix_path = 'example-matrix.xlsx'\n",
    "checkbox_random = True"
   ]
  },
  {
   "cell_type": "code",
   "execution_count": 23,
   "id": "5f388584",
   "metadata": {
    "ExecuteTime": {
     "end_time": "2022-02-04T21:51:14.310685Z",
     "start_time": "2022-02-04T21:51:14.307560Z"
    }
   },
   "outputs": [],
   "source": [
    "import pandas as pd\n",
    "from scipy.optimize import linear_sum_assignment"
   ]
  },
  {
   "cell_type": "markdown",
   "id": "4530ba05",
   "metadata": {},
   "source": [
    "# Starting Matrix"
   ]
  },
  {
   "cell_type": "code",
   "execution_count": 24,
   "id": "65530e1f",
   "metadata": {
    "ExecuteTime": {
     "end_time": "2022-02-04T21:51:15.986889Z",
     "start_time": "2022-02-04T21:51:15.960492Z"
    }
   },
   "outputs": [
    {
     "data": {
      "text/html": [
       "<div>\n",
       "<style scoped>\n",
       "    .dataframe tbody tr th:only-of-type {\n",
       "        vertical-align: middle;\n",
       "    }\n",
       "\n",
       "    .dataframe tbody tr th {\n",
       "        vertical-align: top;\n",
       "    }\n",
       "\n",
       "    .dataframe thead th {\n",
       "        text-align: right;\n",
       "    }\n",
       "</style>\n",
       "<table border=\"1\" class=\"dataframe\">\n",
       "  <thead>\n",
       "    <tr style=\"text-align: right;\">\n",
       "      <th></th>\n",
       "      <th>San Diego</th>\n",
       "      <th>Swamp</th>\n",
       "      <th>Rose City</th>\n",
       "      <th>Mars</th>\n",
       "      <th>Oklahoma</th>\n",
       "      <th>Literal Hell</th>\n",
       "    </tr>\n",
       "  </thead>\n",
       "  <tbody>\n",
       "    <tr>\n",
       "      <th>Doctor Long Bones</th>\n",
       "      <td>1</td>\n",
       "      <td>4</td>\n",
       "      <td>3</td>\n",
       "      <td>2</td>\n",
       "      <td>6</td>\n",
       "      <td>5</td>\n",
       "    </tr>\n",
       "    <tr>\n",
       "      <th>Shrek</th>\n",
       "      <td>4</td>\n",
       "      <td>1</td>\n",
       "      <td>2</td>\n",
       "      <td>5</td>\n",
       "      <td>3</td>\n",
       "      <td>6</td>\n",
       "    </tr>\n",
       "    <tr>\n",
       "      <th>Donkey</th>\n",
       "      <td>2</td>\n",
       "      <td>1</td>\n",
       "      <td>4</td>\n",
       "      <td>6</td>\n",
       "      <td>3</td>\n",
       "      <td>5</td>\n",
       "    </tr>\n",
       "    <tr>\n",
       "      <th>Levy</th>\n",
       "      <td>3</td>\n",
       "      <td>4</td>\n",
       "      <td>1</td>\n",
       "      <td>2</td>\n",
       "      <td>5</td>\n",
       "      <td>6</td>\n",
       "    </tr>\n",
       "    <tr>\n",
       "      <th>Eren Jager</th>\n",
       "      <td>4</td>\n",
       "      <td>3</td>\n",
       "      <td>1</td>\n",
       "      <td>2</td>\n",
       "      <td>5</td>\n",
       "      <td>6</td>\n",
       "    </tr>\n",
       "    <tr>\n",
       "      <th>Satan</th>\n",
       "      <td>6</td>\n",
       "      <td>5</td>\n",
       "      <td>4</td>\n",
       "      <td>3</td>\n",
       "      <td>2</td>\n",
       "      <td>1</td>\n",
       "    </tr>\n",
       "  </tbody>\n",
       "</table>\n",
       "</div>"
      ],
      "text/plain": [
       "                   San Diego  Swamp  Rose City  Mars  Oklahoma  Literal Hell\n",
       "Doctor Long Bones          1      4          3     2         6             5\n",
       "Shrek                      4      1          2     5         3             6\n",
       "Donkey                     2      1          4     6         3             5\n",
       "Levy                       3      4          1     2         5             6\n",
       "Eren Jager                 4      3          1     2         5             6\n",
       "Satan                      6      5          4     3         2             1"
      ]
     },
     "execution_count": 24,
     "metadata": {},
     "output_type": "execute_result"
    }
   ],
   "source": [
    "df = pd.read_excel(pairing_matrix_path, index_col=0)\n",
    "df"
   ]
  },
  {
   "cell_type": "markdown",
   "id": "87622f8d",
   "metadata": {},
   "source": [
    "# Shuffled Matrix"
   ]
  },
  {
   "cell_type": "code",
   "execution_count": 25,
   "id": "608db634",
   "metadata": {
    "ExecuteTime": {
     "end_time": "2022-02-04T21:51:18.111476Z",
     "start_time": "2022-02-04T21:51:18.101995Z"
    }
   },
   "outputs": [
    {
     "data": {
      "text/html": [
       "<div>\n",
       "<style scoped>\n",
       "    .dataframe tbody tr th:only-of-type {\n",
       "        vertical-align: middle;\n",
       "    }\n",
       "\n",
       "    .dataframe tbody tr th {\n",
       "        vertical-align: top;\n",
       "    }\n",
       "\n",
       "    .dataframe thead th {\n",
       "        text-align: right;\n",
       "    }\n",
       "</style>\n",
       "<table border=\"1\" class=\"dataframe\">\n",
       "  <thead>\n",
       "    <tr style=\"text-align: right;\">\n",
       "      <th></th>\n",
       "      <th>San Diego</th>\n",
       "      <th>Swamp</th>\n",
       "      <th>Rose City</th>\n",
       "      <th>Mars</th>\n",
       "      <th>Oklahoma</th>\n",
       "      <th>Literal Hell</th>\n",
       "    </tr>\n",
       "  </thead>\n",
       "  <tbody>\n",
       "    <tr>\n",
       "      <th>Eren Jager</th>\n",
       "      <td>4</td>\n",
       "      <td>3</td>\n",
       "      <td>1</td>\n",
       "      <td>2</td>\n",
       "      <td>5</td>\n",
       "      <td>6</td>\n",
       "    </tr>\n",
       "    <tr>\n",
       "      <th>Doctor Long Bones</th>\n",
       "      <td>1</td>\n",
       "      <td>4</td>\n",
       "      <td>3</td>\n",
       "      <td>2</td>\n",
       "      <td>6</td>\n",
       "      <td>5</td>\n",
       "    </tr>\n",
       "    <tr>\n",
       "      <th>Levy</th>\n",
       "      <td>3</td>\n",
       "      <td>4</td>\n",
       "      <td>1</td>\n",
       "      <td>2</td>\n",
       "      <td>5</td>\n",
       "      <td>6</td>\n",
       "    </tr>\n",
       "    <tr>\n",
       "      <th>Donkey</th>\n",
       "      <td>2</td>\n",
       "      <td>1</td>\n",
       "      <td>4</td>\n",
       "      <td>6</td>\n",
       "      <td>3</td>\n",
       "      <td>5</td>\n",
       "    </tr>\n",
       "    <tr>\n",
       "      <th>Shrek</th>\n",
       "      <td>4</td>\n",
       "      <td>1</td>\n",
       "      <td>2</td>\n",
       "      <td>5</td>\n",
       "      <td>3</td>\n",
       "      <td>6</td>\n",
       "    </tr>\n",
       "    <tr>\n",
       "      <th>Satan</th>\n",
       "      <td>6</td>\n",
       "      <td>5</td>\n",
       "      <td>4</td>\n",
       "      <td>3</td>\n",
       "      <td>2</td>\n",
       "      <td>1</td>\n",
       "    </tr>\n",
       "  </tbody>\n",
       "</table>\n",
       "</div>"
      ],
      "text/plain": [
       "                   San Diego  Swamp  Rose City  Mars  Oklahoma  Literal Hell\n",
       "Eren Jager                 4      3          1     2         5             6\n",
       "Doctor Long Bones          1      4          3     2         6             5\n",
       "Levy                       3      4          1     2         5             6\n",
       "Donkey                     2      1          4     6         3             5\n",
       "Shrek                      4      1          2     5         3             6\n",
       "Satan                      6      5          4     3         2             1"
      ]
     },
     "execution_count": 25,
     "metadata": {},
     "output_type": "execute_result"
    }
   ],
   "source": [
    "df = df.sample(n=len(df))\n",
    "df"
   ]
  },
  {
   "cell_type": "code",
   "execution_count": 26,
   "id": "7d2e71a7",
   "metadata": {
    "ExecuteTime": {
     "end_time": "2022-02-04T21:51:22.348601Z",
     "start_time": "2022-02-04T21:51:22.345566Z"
    }
   },
   "outputs": [],
   "source": [
    "row, col = linear_sum_assignment(df)"
   ]
  },
  {
   "cell_type": "markdown",
   "id": "9748c8ce",
   "metadata": {},
   "source": [
    "# Assignments"
   ]
  },
  {
   "cell_type": "code",
   "execution_count": 33,
   "id": "d1b32531",
   "metadata": {
    "ExecuteTime": {
     "end_time": "2022-02-04T21:53:05.845548Z",
     "start_time": "2022-02-04T21:53:05.840993Z"
    }
   },
   "outputs": [
    {
     "name": "stdout",
     "output_type": "stream",
     "text": [
      "Eren Jager - Rose City\n",
      "Doctor Long Bones - San Diego\n",
      "Levy - Mars\n",
      "Donkey - Swamp\n",
      "Shrek - Oklahoma\n",
      "Satan - Literal Hell\n"
     ]
    }
   ],
   "source": [
    "for i in range(len(row)):\n",
    "    row_idx = row[i]\n",
    "    col_idx = col[i]\n",
    "    name = df.index[row_idx]\n",
    "    location = df.columns[col_idx]\n",
    "    print(f'{name} - {location}')"
   ]
  },
  {
   "cell_type": "code",
   "execution_count": null,
   "id": "14555d7e",
   "metadata": {},
   "outputs": [],
   "source": []
  },
  {
   "cell_type": "code",
   "execution_count": null,
   "id": "bcb7d4bf",
   "metadata": {},
   "outputs": [],
   "source": []
  },
  {
   "cell_type": "code",
   "execution_count": null,
   "id": "d2e04b76",
   "metadata": {},
   "outputs": [],
   "source": []
  }
 ],
 "metadata": {
  "hide_input": true,
  "kernelspec": {
   "display_name": "Python 3 (ipykernel)",
   "language": "python",
   "name": "python3"
  },
  "language_info": {
   "codemirror_mode": {
    "name": "ipython",
    "version": 3
   },
   "file_extension": ".py",
   "mimetype": "text/x-python",
   "name": "python",
   "nbconvert_exporter": "python",
   "pygments_lexer": "ipython3",
   "version": "3.8.12"
  },
  "toc": {
   "base_numbering": 1,
   "nav_menu": {},
   "number_sections": true,
   "sideBar": true,
   "skip_h1_title": false,
   "title_cell": "Table of Contents",
   "title_sidebar": "Contents",
   "toc_cell": false,
   "toc_position": {},
   "toc_section_display": true,
   "toc_window_display": false
  }
 },
 "nbformat": 4,
 "nbformat_minor": 5
}
